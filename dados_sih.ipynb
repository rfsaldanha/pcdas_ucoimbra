{
 "cells": [
  {
   "cell_type": "markdown",
   "metadata": {},
   "source": [
    "## Dados do Sistema de Informações Hospitalar (SIH) do SUS"
   ]
  },
  {
   "cell_type": "markdown",
   "metadata": {},
   "source": [
    "## Pacotes"
   ]
  },
  {
   "cell_type": "code",
   "execution_count": 49,
   "metadata": {},
   "outputs": [],
   "source": [
    "library(readr)\n",
    "\n",
    "# https://rfsaldanha.github.io/rpcdas/index.html\n",
    "library(rpcdas)"
   ]
  },
  {
   "cell_type": "markdown",
   "metadata": {},
   "source": [
    "## Credenciais de acesso"
   ]
  },
  {
   "cell_type": "code",
   "execution_count": 3,
   "metadata": {},
   "outputs": [],
   "source": [
    "# pcdas_token = NULL"
   ]
  },
  {
   "cell_type": "markdown",
   "metadata": {},
   "source": [
    "Verifica quais tabelas o usuário tem acesso. Para este notebook, é necessário ter acesso ao índice `datasus-sih`."
   ]
  },
  {
   "cell_type": "code",
   "execution_count": 3,
   "metadata": {},
   "outputs": [
    {
     "data": {
      "text/plain": [
       " [1] \"datasus-sim\"                  \"datasus-sinasc\"              \n",
       " [3] \"cadastro_inclusao\"            \"stilingue_tabaco\"            \n",
       " [5] \"datasus-sih\"                  \"datasus-sim-el\"              \n",
       " [7] \"oobr-sindrome-gripal-semanal\" \"datasus-pop\"                 \n",
       " [9] \"datasus-cnes\"                 \"datasus-cnes-lt-2008-2017\"   \n",
       "[11] \"datasus-cnes-eq-2008-2017\"    \"datasus-cnes-pf-2008-2017\"   \n",
       "[13] \"datasus-cnes-sr-2008-2017\"    \"datasus-sim-dofet\"           \n",
       "[15] \"pcdas-polis\"                  \"datasus-cnes-pf_inova\"       "
      ]
     },
     "execution_count": null,
     "metadata": {},
     "output_type": "execute_result"
    }
   ],
   "source": [
    "list_pcdas_tables()"
   ]
  },
  {
   "cell_type": "markdown",
   "metadata": {},
   "source": [
    "## Query para acesso aos dados\n",
    "\n",
    "Objetivo: obter a contagem de internações ocorridas em cada município do estado de Minas Gerais (código 33), agregada pelo capítulo da causa básica (CID-10), ano e mês da internação."
   ]
  },
  {
   "cell_type": "code",
   "execution_count": 38,
   "metadata": {},
   "outputs": [
    {
     "data": {
      "text/plain": [
       "\u001b[38;5;246m# A tibble: 306,988 × 6\u001b[39m\n",
       "   uf    code_muni ano_internacao mes_internacao cid_cap                          freq \n",
       "   \u001b[3m\u001b[38;5;246m<chr>\u001b[39m\u001b[23m \u001b[3m\u001b[38;5;246m<chr>\u001b[39m\u001b[23m     \u001b[3m\u001b[38;5;246m<chr>\u001b[39m\u001b[23m          \u001b[3m\u001b[38;5;246m<chr>\u001b[39m\u001b[23m          \u001b[3m\u001b[38;5;246m<chr>\u001b[39m\u001b[23m                            \u001b[3m\u001b[38;5;246m<chr>\u001b[39m\u001b[23m\n",
       "\u001b[38;5;250m 1\u001b[39m 33    330010    2008           1              I. Algumas doenças infecciosas … 30   \n",
       "\u001b[38;5;250m 2\u001b[39m 33    330010    2008           1              II. Neoplasias (tumores)         28   \n",
       "\u001b[38;5;250m 3\u001b[39m 33    330010    2008           1              III. Doenças sangue órgãos hema… 8    \n",
       "\u001b[38;5;250m 4\u001b[39m 33    330010    2008           1              IV. Doenças endócrinas nutricio… 10   \n",
       "\u001b[38;5;250m 5\u001b[39m 33    330010    2008           1              IX. Doenças do aparelho circula… 43   \n",
       "\u001b[38;5;250m 6\u001b[39m 33    330010    2008           1              V. Transtornos mentais e compor… 261  \n",
       "\u001b[38;5;250m 7\u001b[39m 33    330010    2008           1              VI. Doenças do sistema nervoso   5    \n",
       "\u001b[38;5;250m 8\u001b[39m 33    330010    2008           1              VIII.Doenças do ouvido e da apó… 1    \n",
       "\u001b[38;5;250m 9\u001b[39m 33    330010    2008           1              X. Doenças do aparelho respirat… 39   \n",
       "\u001b[38;5;250m10\u001b[39m 33    330010    2008           1              XI. Doenças do aparelho digesti… 71   \n",
       "\u001b[38;5;246m# ℹ 306,978 more rows\u001b[39m\n",
       "\u001b[38;5;246m# ℹ Use `print(n = ...)` to see more rows\u001b[39m"
      ]
     },
     "execution_count": null,
     "metadata": {},
     "output_type": "execute_result"
    }
   ],
   "source": [
    "# sql_query <- \"SELECT N_AIH, DT_INTER, PROC_REA FROM \\\"datasus-sih\\\" LIMIT 100\"\n",
    "\n",
    "sql_query <- \"SELECT res_CODIGO_UF AS uf, res_codigo_adotado AS code_muni, ano_internacao, mes_internacao, def_diag_princ_cap AS cid_cap, COUNT(N_AIH) AS freq \n",
    "  FROM \\\"datasus-sih\\\" \n",
    "  WHERE ano_internacao >= 2008 AND uf = '33' \n",
    "  GROUP BY uf, code_muni, ano_internacao, mes_internacao, cid_cap\"\n",
    "\n",
    "res <- generic_pcdas_query(sql_query = sql_query)\n",
    "\n",
    "res"
   ]
  },
  {
   "cell_type": "markdown",
   "metadata": {},
   "source": [
    "## Algumas estatísticas"
   ]
  },
  {
   "cell_type": "code",
   "execution_count": 46,
   "metadata": {},
   "outputs": [
    {
     "data": {
      "text/plain": [
       "[1] 306988      6"
      ]
     },
     "execution_count": null,
     "metadata": {},
     "output_type": "execute_result"
    }
   ],
   "source": [
    "# Quantidade de linhas e colunas no resultado\n",
    "dim(res)"
   ]
  },
  {
   "cell_type": "code",
   "execution_count": 41,
   "metadata": {},
   "outputs": [
    {
     "data": {
      "text/plain": [
       "[1] 1"
      ]
     },
     "execution_count": null,
     "metadata": {},
     "output_type": "execute_result"
    }
   ],
   "source": [
    "# Quantidade de UFs no resultado\n",
    "length(unique(res$uf))"
   ]
  },
  {
   "cell_type": "code",
   "execution_count": 42,
   "metadata": {},
   "outputs": [
    {
     "data": {
      "text/plain": [
       "[1] 92"
      ]
     },
     "execution_count": null,
     "metadata": {},
     "output_type": "execute_result"
    }
   ],
   "source": [
    "# Quantidade de municípios no resultado\n",
    "length(unique(res$code_muni))"
   ]
  },
  {
   "cell_type": "code",
   "execution_count": 43,
   "metadata": {},
   "outputs": [
    {
     "data": {
      "text/plain": [
       "[1] 17"
      ]
     },
     "execution_count": null,
     "metadata": {},
     "output_type": "execute_result"
    }
   ],
   "source": [
    "# Quantidade de anos no resultado\n",
    "length(unique(res$ano_internacao))"
   ]
  },
  {
   "cell_type": "code",
   "execution_count": 44,
   "metadata": {},
   "outputs": [
    {
     "data": {
      "text/plain": [
       "[1] 12"
      ]
     },
     "execution_count": null,
     "metadata": {},
     "output_type": "execute_result"
    }
   ],
   "source": [
    "# Quantidade de meses no resultado\n",
    "length(unique(res$mes_internacao))"
   ]
  },
  {
   "cell_type": "code",
   "execution_count": 45,
   "metadata": {},
   "outputs": [
    {
     "data": {
      "text/plain": [
       "[1] 22"
      ]
     },
     "execution_count": null,
     "metadata": {},
     "output_type": "execute_result"
    }
   ],
   "source": [
    "# Quantidade de capítulos CID no resultado\n",
    "length(unique(res$cid_cap))"
   ]
  },
  {
   "cell_type": "code",
   "execution_count": 48,
   "metadata": {},
   "outputs": [
    {
     "data": {
      "text/plain": [
       "[1] 12382274"
      ]
     },
     "execution_count": null,
     "metadata": {},
     "output_type": "execute_result"
    }
   ],
   "source": [
    "# Quantidade total de internaçoes no resultado\n",
    "res$freq <- as.numeric(res$freq)\n",
    "sum(res$freq)"
   ]
  },
  {
   "cell_type": "markdown",
   "metadata": {},
   "source": [
    "## Exporta resultado para arquivo CSV"
   ]
  },
  {
   "cell_type": "code",
   "execution_count": 52,
   "metadata": {},
   "outputs": [
    {
     "name": "stdout",
     "output_type": "stream",
     "text": [
      "updating: res_sih.csv (deflated 93%)\n"
     ]
    }
   ],
   "source": [
    "write_csv2(x = res, file = \"res_sih.csv\")\n",
    "zip(zipfile = \"res_sih.csv.zip\", files = \"res_sih.csv\")\n",
    "unlink(x = \"res_sih.csv\")"
   ]
  },
  {
   "cell_type": "markdown",
   "metadata": {},
   "source": [
    "## Informações da seção"
   ]
  },
  {
   "cell_type": "code",
   "execution_count": 53,
   "metadata": {},
   "outputs": [
    {
     "data": {
      "text/plain": [
       "R version 4.4.2 (2024-10-31)\n",
       "Platform: aarch64-apple-darwin20\n",
       "Running under: macOS Sequoia 15.3\n",
       "\n",
       "Matrix products: default\n",
       "BLAS:   /System/Library/Frameworks/Accelerate.framework/Versions/A/Frameworks/vecLib.framework/Versions/A/libBLAS.dylib \n",
       "LAPACK: /Library/Frameworks/R.framework/Versions/4.4-arm64/Resources/lib/libRlapack.dylib;  LAPACK version 3.12.0\n",
       "\n",
       "locale:\n",
       "[1] en_US.UTF-8/en_US.UTF-8/en_US.UTF-8/C/en_US.UTF-8/en_US.UTF-8\n",
       "\n",
       "time zone: America/Sao_Paulo\n",
       "tzcode source: internal\n",
       "\n",
       "attached base packages:\n",
       "[1] stats     graphics  grDevices utils     datasets \n",
       "[6] methods   base     \n",
       "\n",
       "other attached packages:\n",
       " [1] rpcdas_0.4.1    lubridate_1.9.4 forcats_1.0.0  \n",
       " [4] stringr_1.5.1   dplyr_1.1.4     purrr_1.0.4    \n",
       " [7] readr_2.1.5     tidyr_1.3.1     tibble_3.2.1   \n",
       "[10] ggplot2_3.5.1   tidyverse_2.0.0\n",
       "\n",
       "loaded via a namespace (and not attached):\n",
       " [1] bit_4.5.0.1       jsonlite_1.9.0    gtable_0.3.6     \n",
       " [4] crayon_1.5.3      compiler_4.4.2    tidyselect_1.2.1 \n",
       " [7] parallel_4.4.2    scales_1.3.0      R6_2.6.1         \n",
       "[10] generics_0.1.3    curl_6.2.1        httr2_1.1.0      \n",
       "[13] backports_1.5.0   checkmate_2.3.2   munsell_0.5.1    \n",
       "[16] pillar_1.10.1     tzdb_0.4.0        rlang_1.1.5      \n",
       "[19] utf8_1.2.4        stringi_1.8.4     bit64_4.6.0-1    \n",
       "[22] timechange_0.3.0  cli_3.6.4         withr_3.0.2      \n",
       "[25] magrittr_2.0.3    grid_4.4.2        vroom_1.6.5      \n",
       "[28] rappdirs_0.3.3    hms_1.1.3         lifecycle_1.0.4  \n",
       "[31] vctrs_0.6.5       glue_1.8.0        data.table_1.17.0\n",
       "[34] colorspace_2.1-1  tools_4.4.2       pkgconfig_2.0.3  "
      ]
     },
     "execution_count": null,
     "metadata": {},
     "output_type": "execute_result"
    }
   ],
   "source": [
    "sessionInfo()"
   ]
  }
 ],
 "metadata": {
  "language_info": {
   "name": "r"
  }
 },
 "nbformat": 4,
 "nbformat_minor": 2
}
